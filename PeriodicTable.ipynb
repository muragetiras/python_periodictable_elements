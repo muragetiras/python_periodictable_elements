{
 "cells": [
  {
   "cell_type": "code",
   "execution_count": 1,
   "id": "a5daae7b-3bd0-4490-a32c-1c16798b6f7b",
   "metadata": {},
   "outputs": [
    {
     "name": "stdout",
     "output_type": "stream",
     "text": [
      "Defaulting to user installation because normal site-packages is not writeable\n",
      "Collecting periodictable\n",
      "  Downloading periodictable-2.0.2-py3-none-any.whl.metadata (5.4 kB)\n",
      "Requirement already satisfied: pyparsing in c:\\programdata\\anaconda3\\lib\\site-packages (from periodictable) (3.1.2)\n",
      "Requirement already satisfied: numpy in c:\\programdata\\anaconda3\\lib\\site-packages (from periodictable) (1.26.4)\n",
      "Downloading periodictable-2.0.2-py3-none-any.whl (811 kB)\n",
      "   ---------------------------------------- 0.0/811.1 kB ? eta -:--:--\n",
      "   ------------ --------------------------- 262.1/811.1 kB ? eta -:--:--\n",
      "   ---------------------------------------- 811.1/811.1 kB 2.2 MB/s eta 0:00:00\n",
      "Installing collected packages: periodictable\n",
      "Successfully installed periodictable-2.0.2\n",
      "Note: you may need to restart the kernel to use updated packages.\n"
     ]
    }
   ],
   "source": [
    "pip install periodictable"
   ]
  },
  {
   "cell_type": "markdown",
   "id": "f283166d-d841-4d16-a4b2-5f36adc15cdf",
   "metadata": {},
   "source": [
    "## Python Code for Periodic Table Elements"
   ]
  },
  {
   "cell_type": "code",
   "execution_count": 23,
   "id": "c8986544-1d38-444a-a774-4ebb1d0bd94b",
   "metadata": {},
   "outputs": [
    {
     "name": "stdin",
     "output_type": "stream",
     "text": [
      "Enter Element Atomic Number:  2\n"
     ]
    },
    {
     "name": "stdout",
     "output_type": "stream",
     "text": [
      "Atomic Number:  2\n",
      "Symbol:  He\n",
      "Name:  helium\n",
      "Atomic Mass:  4.002602\n",
      "Density:  0.122\n"
     ]
    }
   ],
   "source": [
    "import periodictable\n",
    "\n",
    "# Get Details of an Element by Atomic Number\n",
    "\n",
    "atomic_number = int(input(\"Enter Element Atomic Number: \"))\n",
    "element = periodictable.elements[atomic_number]\n",
    "\n",
    "print('Atomic Number: ', element.number)\n",
    "print('Symbol: ', element.symbol)\n",
    "print('Name: ', element.name)\n",
    "print('Atomic Mass: ', element.mass)\n",
    "print('Density: ', element.density)"
   ]
  },
  {
   "cell_type": "code",
   "execution_count": null,
   "id": "77e3a923-df24-4936-ac69-98c4133e33d0",
   "metadata": {},
   "outputs": [],
   "source": []
  }
 ],
 "metadata": {
  "kernelspec": {
   "display_name": "Python 3 (ipykernel)",
   "language": "python",
   "name": "python3"
  },
  "language_info": {
   "codemirror_mode": {
    "name": "ipython",
    "version": 3
   },
   "file_extension": ".py",
   "mimetype": "text/x-python",
   "name": "python",
   "nbconvert_exporter": "python",
   "pygments_lexer": "ipython3",
   "version": "3.12.7"
  }
 },
 "nbformat": 4,
 "nbformat_minor": 5
}
